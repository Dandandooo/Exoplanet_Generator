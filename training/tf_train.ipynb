{
 "cells": [
  {
   "cell_type": "markdown",
   "source": [
    "# Training the Model"
   ],
   "metadata": {
    "collapsed": false
   }
  },
  {
   "cell_type": "markdown",
   "source": [
    "## Preparation"
   ],
   "metadata": {
    "collapsed": false
   }
  },
  {
   "cell_type": "code",
   "execution_count": null,
   "outputs": [],
   "source": [
    "import pickle as pkl, numpy as np\n",
    "from tf_tm import *"
   ],
   "metadata": {
    "collapsed": false
   }
  },
  {
   "cell_type": "markdown",
   "source": [
    "#### Set Parameters"
   ],
   "metadata": {
    "collapsed": false
   }
  },
  {
   "cell_type": "code",
   "execution_count": null,
   "outputs": [],
   "source": [
    "BUFFER_SIZE = 64\n",
    "BATCH_SIZE = 32\n",
    "IMG_SIZE = 256\n",
    "EPOCHS = 1000\n",
    "noise_dim = 10\n",
    "num_examples_to_generate = 9\n",
    "generator_lr = .001\n",
    "discriminator_lr = .0001"
   ],
   "metadata": {
    "collapsed": false
   }
  },
  {
   "cell_type": "markdown",
   "source": [
    "#### Try Starting Device"
   ],
   "metadata": {
    "collapsed": false
   }
  },
  {
   "cell_type": "code",
   "execution_count": null,
   "outputs": [],
   "source": [
    "try:\n",
    "    resolver = tf.distribute.cluster_resolver.TPUClusterResolver(tpu='')\n",
    "    tf.config.experimental_connect_to_cluster(resolver)\n",
    "    # This is the TPU initialization code that has to be at the beginning.\n",
    "    tf.tpu.experimental.initialize_tpu_system(resolver)\n",
    "    print(\"All devices: \", tf.config.list_logical_devices('TPU'))\n",
    "    strategy = tf.distribute.TPUStrategy(resolver)\n",
    "except ValueError:\n",
    "    print('\\x1b[31mNo TPU found\\x1b[0m')\n",
    "    tf.config.list_physical_devices('GPU')"
   ],
   "metadata": {
    "collapsed": false
   }
  },
  {
   "cell_type": "markdown",
   "source": [
    "#### Define the data"
   ],
   "metadata": {
    "collapsed": false
   }
  },
  {
   "cell_type": "code",
   "execution_count": null,
   "metadata": {
    "collapsed": true
   },
   "outputs": [],
   "source": [
    "planets = pkl.load(open('planets.pkl', 'rb'))\n",
    "images_arrs = np.load('training_images.npy')\n",
    "image_info = np.load('training_info.npy')\n",
    "labels = np.load('training_labels.npy')\n",
    "\n",
    "datagen = tf.keras.preprocessing.image.ImageDataGenerator(\n",
    "    featurewise_center=True,\n",
    "    rotation_range=15,\n",
    "    width_shift_range=16,\n",
    "    height_shift_range=16,\n",
    "    horizontal_flip=True,\n",
    "    vertical_flip=True,\n",
    ")\n",
    "datagen.fit(images_arrs, augment=True)\n",
    "\n",
    "cross_entropy = tf.keras.losses.BinaryCrossentropy(from_logits=True)"
   ]
  },
  {
   "cell_type": "markdown",
   "source": [
    "## Modeling"
   ],
   "metadata": {
    "collapsed": false
   }
  },
  {
   "cell_type": "markdown",
   "source": [
    "#### Defining the Discriminator"
   ],
   "metadata": {
    "collapsed": false
   }
  },
  {
   "cell_type": "code",
   "execution_count": null,
   "outputs": [],
   "source": [
    "disc_shape = (128, )\n",
    "disc_img_shape = (IMG_SIZE, IMG_SIZE, 3)\n",
    "\n",
    "# with strategy.scope():\n",
    "discriminator = make_discriminator_model(disc_shape, disc_img_shape)\n",
    "print (discriminator.summary())\n",
    "\n",
    "decision = discriminator.predict(images_arrs)\n",
    "print()\n",
    "# print (\"Prediction for image from training data:\", decision)"
   ],
   "metadata": {
    "collapsed": false
   }
  },
  {
   "cell_type": "markdown",
   "source": [
    "#### Defining the Generator"
   ],
   "metadata": {
    "collapsed": false
   }
  },
  {
   "cell_type": "code",
   "execution_count": null,
   "outputs": [],
   "source": [
    "gen_shape = (32, 64, 128, IMG_SIZE)\n",
    "gen_depth = (32, 32, 16, 1)\n",
    "gen_input = (image_info.shape[1] + noise_dim)\n",
    "\n",
    "# with strategy.scope():\n",
    "generator = make_generator_model(gen_shape, gen_depth, gen_input)\n",
    "\n",
    "noise = tf.concat((tf.random.normal([image_info.shape[0], noise_dim]), tf.convert_to_tensor(image_info, dtype=tf.float32)), axis=1)\n",
    "generated_image = generator(noise, training=False)\n",
    "\n",
    "plt.imshow(generated_image[0])\n",
    "plt.show()\n",
    "\n",
    "print(generator.summary())"
   ],
   "metadata": {
    "collapsed": false
   }
  }
 ],
 "metadata": {
  "kernelspec": {
   "display_name": "Python 3",
   "language": "python",
   "name": "python3"
  },
  "language_info": {
   "codemirror_mode": {
    "name": "ipython",
    "version": 2
   },
   "file_extension": ".py",
   "mimetype": "text/x-python",
   "name": "python",
   "nbconvert_exporter": "python",
   "pygments_lexer": "ipython2",
   "version": "2.7.6"
  }
 },
 "nbformat": 4,
 "nbformat_minor": 0
}
